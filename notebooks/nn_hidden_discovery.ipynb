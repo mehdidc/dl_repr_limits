{
 "metadata": {
  "name": "",
  "signature": "sha256:877ec1793109de709234ee07f6ccefa93c79d55449669cfa0e08126acdfc05c4"
 },
 "nbformat": 3,
 "nbformat_minor": 0,
 "worksheets": [
  {
   "cells": [
    {
     "cell_type": "code",
     "collapsed": false,
     "input": [
      "from NNet import layer\n",
      "from NNet.nn import NN\n",
      "from NNet.preprocess import preprocess, min_max_scaler, mean_std_scaler\n",
      "from NNet.funcs import *\n",
      "from NNet.learner import Learner, adadelta, momentum\n",
      "from NNet.utils import shuffle, divide, to_hamming, from_hamming, get_classes\n",
      "from NNet.easy import EnsembleModel, StackModel\n",
      "from NNet.errors import confusion_matrix, classification_error\n",
      "from NNet import rnd_gen\n",
      "\n",
      "from itertools import chain\n",
      "import numpy as np\n",
      "\n",
      "import matplotlib.pyplot as plt\n",
      "\n",
      "from skimage.draw import line\n",
      "\n",
      "%matplotlib inline"
     ],
     "language": "python",
     "metadata": {},
     "outputs": [],
     "prompt_number": 181
    },
    {
     "cell_type": "code",
     "collapsed": false,
     "input": [
      "\n",
      "\n",
      "def corrupted(x, probability=0.2):\n",
      "    return x * (np.random.uniform(size=x.shape) > probability)\n",
      "\n",
      "def gen(number, shape):\n",
      "    images = np.zeros( tuple([number] + list(shape)) )\n",
      "    x, y = shape[0]/2, shape[1]/2\n",
      "    max_r = 0.5*np.sqrt(x**2 + y**2)\n",
      "    hidden = []\n",
      "    for i in xrange(number):\n",
      "        theta = np.random.uniform(-np.pi, np.pi)\n",
      "        r = np.random.uniform(0, max_r)\n",
      "        rr, cc = line(x, y, x + int(r * np.cos(theta)), y + int(r * np.sin(theta)))\n",
      "        rr = rr[rr < shape[0]]\n",
      "        cc = cc[cc < shape[1]]\n",
      "        images[i, rr, cc] = 1\n",
      "        hidden.append( (theta, r) )\n",
      "    hidden  = np.array(hidden)\n",
      "    return images, hidden"
     ],
     "language": "python",
     "metadata": {},
     "outputs": [],
     "prompt_number": 384
    },
    {
     "cell_type": "code",
     "collapsed": false,
     "input": [
      "imshape = (20, 20)\n",
      "images, hidden = gen(100, imshape)\n",
      "\n",
      "for i in xrange(64):\n",
      "    plt.subplot(8, 8, i)\n",
      "    plt.imshow(images[i], cmap='gray')\n",
      "plt.show()\n",
      "\n",
      "test_images, _ = gen(100, imshape)\n",
      "test_images = test_images.reshape( (test_images.shape[0], np.prod(imshape)) )\n"
     ],
     "language": "python",
     "metadata": {},
     "outputs": [
      {
       "metadata": {},
       "output_type": "display_data",
       "png": "[encoded data removed]",
       "text": [
        "<matplotlib.figure.Figure at 0xaa458d2c>"
       ]
      }
     ],
     "prompt_number": 493
    },
    {
     "cell_type": "code",
     "collapsed": false,
     "input": [
      "# autoencoder\n",
      "\n",
      "hidden_units = [32]\n",
      "nb_input_units = images.shape[1]\n",
      "learners = []\n",
      "for i, units in enumerate(hidden_units):\n",
      "    if i == 0:\n",
      "        f = tanh\n",
      "        d_f = d_tanh\n",
      "        out = layer.OutputLayerMSE()\n",
      "    else:\n",
      "        f = tanh\n",
      "        d_f = d_tanh\n",
      "        out = layer.OutputLayerMSE()\n",
      "    \n",
      "    layers = [\n",
      "        layer.FullLayer(nb_input_units, units, rnd_gen.np_glorot),\n",
      "        layer.BiasLayer(units),\n",
      "        layer.ApplyFunctionLayer(tanh, d_tanh),\n",
      "\n",
      "        layer.FullLayer(units, nb_input_units, rnd_gen.np_glorot),\n",
      "        layer.BiasLayer(nb_input_units),\n",
      "        layer.ApplyFunctionLayer(f, d_f),\n",
      "        out\n",
      "    ]\n",
      "\n",
      "    nb_input_units = units\n",
      "    nn = NN(layers)\n",
      "    learner = Learner(nn, alpha=0.01, momentum=0, lambda_=0, eta=0, method=momentum)\n",
      "    learners.append(learner)\n",
      "\n",
      "batch_size = images.shape[0]\n",
      "batch_size = 10\n",
      "\n"
     ],
     "language": "python",
     "metadata": {},
     "outputs": [],
     "prompt_number": 525
    },
    {
     "cell_type": "code",
     "collapsed": false,
     "input": [
      "nb = 1\n",
      "values = []\n",
      "j = 0\n",
      "\n",
      "learner.alpha = 0.001\n",
      "\n",
      "for i in xrange(10000):\n",
      "    images, hidden = gen(nb, imshape)\n",
      "    images = images.reshape( (images.shape[0], np.prod(images.shape[1:]) ) )\n",
      "    inputs = images\n",
      "    for learner in learners:\n",
      "        learner.stochastic_gradient_descent(corrupted(inputs, 0.1), inputs, batch_size, it=0)\n",
      "    if i % 100 == 0:\n",
      "        print \"test loss : %f\" % (np.sum((learner.predict(test_images)-test_images)**2) / len(test_images),)\n"
     ],
     "language": "python",
     "metadata": {},
     "outputs": [
      {
       "output_type": "stream",
       "stream": "stdout",
       "text": [
        "test loss : 0.640462\n",
        "test loss : 0.640910"
       ]
      },
      {
       "output_type": "stream",
       "stream": "stdout",
       "text": [
        "\n",
        "test loss : 0.640362"
       ]
      },
      {
       "output_type": "stream",
       "stream": "stdout",
       "text": [
        "\n",
        "test loss : 0.641220"
       ]
      },
      {
       "output_type": "stream",
       "stream": "stdout",
       "text": [
        "\n",
        "test loss : 0.641988"
       ]
      },
      {
       "output_type": "stream",
       "stream": "stdout",
       "text": [
        "\n",
        "test loss : 0.641873"
       ]
      },
      {
       "output_type": "stream",
       "stream": "stdout",
       "text": [
        "\n",
        "test loss : 0.641005"
       ]
      },
      {
       "output_type": "stream",
       "stream": "stdout",
       "text": [
        "\n",
        "test loss : 0.639978"
       ]
      },
      {
       "output_type": "stream",
       "stream": "stdout",
       "text": [
        "\n",
        "test loss : 0.638470"
       ]
      },
      {
       "output_type": "stream",
       "stream": "stdout",
       "text": [
        "\n",
        "test loss : 0.639345"
       ]
      },
      {
       "output_type": "stream",
       "stream": "stdout",
       "text": [
        "\n",
        "test loss : 0.638808"
       ]
      },
      {
       "output_type": "stream",
       "stream": "stdout",
       "text": [
        "\n",
        "test loss : 0.638618"
       ]
      },
      {
       "output_type": "stream",
       "stream": "stdout",
       "text": [
        "\n",
        "test loss : 0.637513"
       ]
      },
      {
       "output_type": "stream",
       "stream": "stdout",
       "text": [
        "\n",
        "test loss : 0.635296"
       ]
      },
      {
       "output_type": "stream",
       "stream": "stdout",
       "text": [
        "\n",
        "test loss : 0.635095"
       ]
      },
      {
       "output_type": "stream",
       "stream": "stdout",
       "text": [
        "\n",
        "test loss : 0.633211"
       ]
      },
      {
       "output_type": "stream",
       "stream": "stdout",
       "text": [
        "\n",
        "test loss : 0.633558"
       ]
      },
      {
       "output_type": "stream",
       "stream": "stdout",
       "text": [
        "\n",
        "test loss : 0.633781"
       ]
      },
      {
       "output_type": "stream",
       "stream": "stdout",
       "text": [
        "\n",
        "test loss : 0.633861"
       ]
      },
      {
       "output_type": "stream",
       "stream": "stdout",
       "text": [
        "\n",
        "test loss : 0.633001"
       ]
      },
      {
       "output_type": "stream",
       "stream": "stdout",
       "text": [
        "\n",
        "test loss : 0.633029"
       ]
      },
      {
       "output_type": "stream",
       "stream": "stdout",
       "text": [
        "\n",
        "test loss : 0.632592"
       ]
      },
      {
       "output_type": "stream",
       "stream": "stdout",
       "text": [
        "\n",
        "test loss : 0.630874"
       ]
      },
      {
       "output_type": "stream",
       "stream": "stdout",
       "text": [
        "\n",
        "test loss : 0.630466"
       ]
      },
      {
       "output_type": "stream",
       "stream": "stdout",
       "text": [
        "\n",
        "test loss : 0.629030"
       ]
      },
      {
       "output_type": "stream",
       "stream": "stdout",
       "text": [
        "\n",
        "test loss : 0.629041"
       ]
      },
      {
       "output_type": "stream",
       "stream": "stdout",
       "text": [
        "\n",
        "test loss : 0.628990"
       ]
      },
      {
       "output_type": "stream",
       "stream": "stdout",
       "text": [
        "\n",
        "test loss : 0.628962"
       ]
      },
      {
       "output_type": "stream",
       "stream": "stdout",
       "text": [
        "\n",
        "test loss : 0.628546"
       ]
      },
      {
       "output_type": "stream",
       "stream": "stdout",
       "text": [
        "\n",
        "test loss : 0.627822"
       ]
      },
      {
       "output_type": "stream",
       "stream": "stdout",
       "text": [
        "\n",
        "test loss : 0.627208"
       ]
      },
      {
       "output_type": "stream",
       "stream": "stdout",
       "text": [
        "\n",
        "test loss : 0.627052"
       ]
      },
      {
       "output_type": "stream",
       "stream": "stdout",
       "text": [
        "\n",
        "test loss : 0.628663"
       ]
      },
      {
       "output_type": "stream",
       "stream": "stdout",
       "text": [
        "\n",
        "test loss : 0.628457"
       ]
      },
      {
       "output_type": "stream",
       "stream": "stdout",
       "text": [
        "\n",
        "test loss : 0.626957"
       ]
      },
      {
       "output_type": "stream",
       "stream": "stdout",
       "text": [
        "\n",
        "test loss : 0.627046"
       ]
      },
      {
       "output_type": "stream",
       "stream": "stdout",
       "text": [
        "\n",
        "test loss : 0.626305"
       ]
      },
      {
       "output_type": "stream",
       "stream": "stdout",
       "text": [
        "\n",
        "test loss : 0.626285"
       ]
      },
      {
       "output_type": "stream",
       "stream": "stdout",
       "text": [
        "\n",
        "test loss : 0.626625"
       ]
      },
      {
       "output_type": "stream",
       "stream": "stdout",
       "text": [
        "\n",
        "test loss : 0.626636"
       ]
      },
      {
       "output_type": "stream",
       "stream": "stdout",
       "text": [
        "\n",
        "test loss : 0.625212"
       ]
      },
      {
       "output_type": "stream",
       "stream": "stdout",
       "text": [
        "\n",
        "test loss : 0.626297"
       ]
      },
      {
       "output_type": "stream",
       "stream": "stdout",
       "text": [
        "\n",
        "test loss : 0.625117"
       ]
      },
      {
       "output_type": "stream",
       "stream": "stdout",
       "text": [
        "\n",
        "test loss : 0.625039"
       ]
      },
      {
       "output_type": "stream",
       "stream": "stdout",
       "text": [
        "\n",
        "test loss : 0.624450"
       ]
      },
      {
       "output_type": "stream",
       "stream": "stdout",
       "text": [
        "\n",
        "test loss : 0.624057"
       ]
      },
      {
       "output_type": "stream",
       "stream": "stdout",
       "text": [
        "\n",
        "test loss : 0.623196"
       ]
      },
      {
       "output_type": "stream",
       "stream": "stdout",
       "text": [
        "\n",
        "test loss : 0.623576"
       ]
      },
      {
       "output_type": "stream",
       "stream": "stdout",
       "text": [
        "\n",
        "test loss : 0.623659"
       ]
      },
      {
       "output_type": "stream",
       "stream": "stdout",
       "text": [
        "\n",
        "test loss : 0.623010"
       ]
      },
      {
       "output_type": "stream",
       "stream": "stdout",
       "text": [
        "\n",
        "test loss : 0.622986"
       ]
      },
      {
       "output_type": "stream",
       "stream": "stdout",
       "text": [
        "\n",
        "test loss : 0.622863"
       ]
      },
      {
       "output_type": "stream",
       "stream": "stdout",
       "text": [
        "\n",
        "test loss : 0.622497"
       ]
      },
      {
       "output_type": "stream",
       "stream": "stdout",
       "text": [
        "\n",
        "test loss : 0.622879"
       ]
      },
      {
       "output_type": "stream",
       "stream": "stdout",
       "text": [
        "\n",
        "test loss : 0.622283"
       ]
      },
      {
       "output_type": "stream",
       "stream": "stdout",
       "text": [
        "\n",
        "test loss : 0.622515"
       ]
      },
      {
       "output_type": "stream",
       "stream": "stdout",
       "text": [
        "\n",
        "test loss : 0.621098"
       ]
      },
      {
       "output_type": "stream",
       "stream": "stdout",
       "text": [
        "\n",
        "test loss : 0.622420"
       ]
      },
      {
       "output_type": "stream",
       "stream": "stdout",
       "text": [
        "\n",
        "test loss : 0.624385"
       ]
      },
      {
       "output_type": "stream",
       "stream": "stdout",
       "text": [
        "\n",
        "test loss : 0.624633"
       ]
      },
      {
       "output_type": "stream",
       "stream": "stdout",
       "text": [
        "\n",
        "test loss : 0.623904"
       ]
      },
      {
       "output_type": "stream",
       "stream": "stdout",
       "text": [
        "\n",
        "test loss : 0.625060"
       ]
      },
      {
       "output_type": "stream",
       "stream": "stdout",
       "text": [
        "\n",
        "test loss : 0.624172"
       ]
      },
      {
       "output_type": "stream",
       "stream": "stdout",
       "text": [
        "\n",
        "test loss : 0.622496"
       ]
      },
      {
       "output_type": "stream",
       "stream": "stdout",
       "text": [
        "\n",
        "test loss : 0.622085"
       ]
      },
      {
       "output_type": "stream",
       "stream": "stdout",
       "text": [
        "\n",
        "test loss : 0.621710"
       ]
      },
      {
       "output_type": "stream",
       "stream": "stdout",
       "text": [
        "\n",
        "test loss : 0.619946"
       ]
      },
      {
       "output_type": "stream",
       "stream": "stdout",
       "text": [
        "\n",
        "test loss : 0.618464"
       ]
      },
      {
       "output_type": "stream",
       "stream": "stdout",
       "text": [
        "\n",
        "test loss : 0.618379"
       ]
      },
      {
       "output_type": "stream",
       "stream": "stdout",
       "text": [
        "\n",
        "test loss : 0.618305"
       ]
      },
      {
       "output_type": "stream",
       "stream": "stdout",
       "text": [
        "\n",
        "test loss : 0.616446"
       ]
      },
      {
       "output_type": "stream",
       "stream": "stdout",
       "text": [
        "\n",
        "test loss : 0.616440"
       ]
      },
      {
       "output_type": "stream",
       "stream": "stdout",
       "text": [
        "\n",
        "test loss : 0.617255"
       ]
      },
      {
       "output_type": "stream",
       "stream": "stdout",
       "text": [
        "\n",
        "test loss : 0.617612"
       ]
      },
      {
       "output_type": "stream",
       "stream": "stdout",
       "text": [
        "\n",
        "test loss : 0.619143"
       ]
      },
      {
       "output_type": "stream",
       "stream": "stdout",
       "text": [
        "\n",
        "test loss : 0.618319"
       ]
      },
      {
       "output_type": "stream",
       "stream": "stdout",
       "text": [
        "\n",
        "test loss : 0.617513"
       ]
      },
      {
       "output_type": "stream",
       "stream": "stdout",
       "text": [
        "\n",
        "test loss : 0.616816"
       ]
      },
      {
       "output_type": "stream",
       "stream": "stdout",
       "text": [
        "\n",
        "test loss : 0.616876"
       ]
      },
      {
       "output_type": "stream",
       "stream": "stdout",
       "text": [
        "\n",
        "test loss : 0.615347"
       ]
      },
      {
       "output_type": "stream",
       "stream": "stdout",
       "text": [
        "\n",
        "test loss : 0.615524"
       ]
      },
      {
       "output_type": "stream",
       "stream": "stdout",
       "text": [
        "\n",
        "test loss : 0.615413"
       ]
      },
      {
       "output_type": "stream",
       "stream": "stdout",
       "text": [
        "\n",
        "test loss : 0.615432"
       ]
      },
      {
       "output_type": "stream",
       "stream": "stdout",
       "text": [
        "\n",
        "test loss : 0.614850"
       ]
      },
      {
       "output_type": "stream",
       "stream": "stdout",
       "text": [
        "\n",
        "test loss : 0.614100"
       ]
      },
      {
       "output_type": "stream",
       "stream": "stdout",
       "text": [
        "\n",
        "test loss : 0.613106"
       ]
      },
      {
       "output_type": "stream",
       "stream": "stdout",
       "text": [
        "\n",
        "test loss : 0.613225"
       ]
      },
      {
       "output_type": "stream",
       "stream": "stdout",
       "text": [
        "\n",
        "test loss : 0.612257"
       ]
      },
      {
       "output_type": "stream",
       "stream": "stdout",
       "text": [
        "\n",
        "test loss : 0.610544"
       ]
      },
      {
       "output_type": "stream",
       "stream": "stdout",
       "text": [
        "\n",
        "test loss : 0.610345"
       ]
      },
      {
       "output_type": "stream",
       "stream": "stdout",
       "text": [
        "\n",
        "test loss : 0.610633"
       ]
      },
      {
       "output_type": "stream",
       "stream": "stdout",
       "text": [
        "\n",
        "test loss : 0.611267"
       ]
      },
      {
       "output_type": "stream",
       "stream": "stdout",
       "text": [
        "\n",
        "test loss : 0.610481"
       ]
      },
      {
       "output_type": "stream",
       "stream": "stdout",
       "text": [
        "\n",
        "test loss : 0.609553"
       ]
      },
      {
       "output_type": "stream",
       "stream": "stdout",
       "text": [
        "\n",
        "test loss : 0.608663"
       ]
      },
      {
       "output_type": "stream",
       "stream": "stdout",
       "text": [
        "\n",
        "test loss : 0.608873"
       ]
      },
      {
       "output_type": "stream",
       "stream": "stdout",
       "text": [
        "\n",
        "test loss : 0.607473"
       ]
      },
      {
       "output_type": "stream",
       "stream": "stdout",
       "text": [
        "\n",
        "test loss : 0.606823"
       ]
      },
      {
       "output_type": "stream",
       "stream": "stdout",
       "text": [
        "\n",
        "test loss : 0.608521"
       ]
      },
      {
       "output_type": "stream",
       "stream": "stdout",
       "text": [
        "\n",
        "test loss : 0.607227"
       ]
      },
      {
       "output_type": "stream",
       "stream": "stdout",
       "text": [
        "\n"
       ]
      }
     ],
     "prompt_number": 554
    },
    {
     "cell_type": "code",
     "collapsed": false,
     "input": [
      "# fine tuning\n",
      "\n",
      "galaxy_layers = [L for learner in learners for L in learner.nn.layers[0:3]]\n",
      "\n",
      "galaxy_layers.extend([\n",
      "    layer.FullLayer(hidden_units[-1], images.shape[1], rnd_gen.glorot),\n",
      "    layer.BiasLayer(images.shape[1]),\n",
      "    layer.ApplyFunctionLayer(tanh, d_tanh),\n",
      "    layer.OutputLayerMSE()\n",
      "])\n",
      "\n",
      "galaxy_nn = NN(galaxy_layers)\n"
     ],
     "language": "python",
     "metadata": {},
     "outputs": [],
     "prompt_number": 30
    },
    {
     "cell_type": "code",
     "collapsed": false,
     "input": [
      "# training with fine tuning\n",
      "print \"galaxy learner...\"\n",
      "galaxy_learner = Learner(galaxy_nn, alpha=0.1, momentum=0, lambda_=0, eta=0)\n",
      "nb_iter = 1000\n",
      "for i in xrange(nb_iter):\n",
      "    galaxy_learner.stochastic_gradient_descent(images, images, batch_size, it=i)\n",
      "    if i % (nb_iter/10) == 0:\n",
      "        print \"iteration %d : %f\" % (i, galaxy_learner.get_loss(images, images),)\n"
     ],
     "language": "python",
     "metadata": {},
     "outputs": [
      {
       "output_type": "stream",
       "stream": "stdout",
       "text": [
        "galaxy learner...\n"
       ]
      },
      {
       "ename": "NameError",
       "evalue": "name 'galaxy_nn' is not defined",
       "output_type": "pyerr",
       "traceback": [
        "\u001b[1;31m---------------------------------------------------------------------------\u001b[0m\n\u001b[1;31mNameError\u001b[0m                                 Traceback (most recent call last)",
        "\u001b[1;32m<ipython-input-122-e748f70eb302>\u001b[0m in \u001b[0;36m<module>\u001b[1;34m()\u001b[0m\n\u001b[0;32m      1\u001b[0m \u001b[1;31m# training with fine tuning\u001b[0m\u001b[1;33m\u001b[0m\u001b[1;33m\u001b[0m\u001b[0m\n\u001b[0;32m      2\u001b[0m \u001b[1;32mprint\u001b[0m \u001b[1;34m\"galaxy learner...\"\u001b[0m\u001b[1;33m\u001b[0m\u001b[0m\n\u001b[1;32m----> 3\u001b[1;33m \u001b[0mgalaxy_learner\u001b[0m \u001b[1;33m=\u001b[0m \u001b[0mLearner\u001b[0m\u001b[1;33m(\u001b[0m\u001b[0mgalaxy_nn\u001b[0m\u001b[1;33m,\u001b[0m \u001b[0malpha\u001b[0m\u001b[1;33m=\u001b[0m\u001b[1;36m0.1\u001b[0m\u001b[1;33m,\u001b[0m \u001b[0mmomentum\u001b[0m\u001b[1;33m=\u001b[0m\u001b[1;36m0\u001b[0m\u001b[1;33m,\u001b[0m \u001b[0mlambda_\u001b[0m\u001b[1;33m=\u001b[0m\u001b[1;36m0\u001b[0m\u001b[1;33m,\u001b[0m \u001b[0meta\u001b[0m\u001b[1;33m=\u001b[0m\u001b[1;36m0\u001b[0m\u001b[1;33m)\u001b[0m\u001b[1;33m\u001b[0m\u001b[0m\n\u001b[0m\u001b[0;32m      4\u001b[0m \u001b[0mnb_iter\u001b[0m \u001b[1;33m=\u001b[0m \u001b[1;36m1000\u001b[0m\u001b[1;33m\u001b[0m\u001b[0m\n\u001b[0;32m      5\u001b[0m \u001b[1;32mfor\u001b[0m \u001b[0mi\u001b[0m \u001b[1;32min\u001b[0m \u001b[0mxrange\u001b[0m\u001b[1;33m(\u001b[0m\u001b[0mnb_iter\u001b[0m\u001b[1;33m)\u001b[0m\u001b[1;33m:\u001b[0m\u001b[1;33m\u001b[0m\u001b[0m\n",
        "\u001b[1;31mNameError\u001b[0m: name 'galaxy_nn' is not defined"
       ]
      }
     ],
     "prompt_number": 122
    },
    {
     "cell_type": "code",
     "collapsed": false,
     "input": [
      "\n",
      "bottleneck = 3\n",
      "features =  learner.nn.forward_until(images, bottleneck)\n",
      "print features.shape\n",
      "n = np.zeros( (images.shape[0], features.shape[1] + hidden.shape[1]) )\n",
      "\n",
      "for i in xrange(features.shape[1]):\n",
      "    for j in xrange(hidden.shape[1]):\n",
      "        print \"Feature %d with Real feature %d : %f\" % (i, j, np.corrcoef(features[:, i], hidden[:, j])[0, 1])\n"
     ],
     "language": "python",
     "metadata": {},
     "outputs": [
      {
       "output_type": "stream",
       "stream": "stdout",
       "text": [
        "(1, 40)\n",
        "Feature 0 with Real feature 0 : nan"
       ]
      },
      {
       "output_type": "stream",
       "stream": "stdout",
       "text": [
        "\n",
        "Feature 0 with Real feature 1 : nan\n",
        "Feature 1 with Real feature 0 : nan\n",
        "Feature 1 with Real feature 1 : nan\n",
        "Feature 2 with Real feature 0 : nan\n",
        "Feature 2 with Real feature 1 : nan\n",
        "Feature 3 with Real feature 0 : nan\n",
        "Feature 3 with Real feature 1 : nan\n",
        "Feature 4 with Real feature 0 : nan\n",
        "Feature 4 with Real feature 1 : nan\n",
        "Feature 5 with Real feature 0 : nan\n",
        "Feature 5 with Real feature 1 : nan\n",
        "Feature 6 with Real feature 0 : nan\n",
        "Feature 6 with Real feature 1 : nan\n",
        "Feature 7 with Real feature 0 : nan\n",
        "Feature 7 with Real feature 1 : nan\n",
        "Feature 8 with Real feature 0 : nan\n",
        "Feature 8 with Real feature 1 : nan\n",
        "Feature 9 with Real feature 0 : nan\n",
        "Feature 9 with Real feature 1 : nan\n",
        "Feature 10 with Real feature 0 : nan\n",
        "Feature 10 with Real feature 1 : nan\n",
        "Feature 11 with Real feature 0 : nan\n",
        "Feature 11 with Real feature 1 : nan\n",
        "Feature 12 with Real feature 0 : nan\n",
        "Feature 12 with Real feature 1 : nan\n",
        "Feature 13 with Real feature 0 : nan\n",
        "Feature 13 with Real feature 1 : nan\n",
        "Feature 14 with Real feature 0 : nan\n",
        "Feature 14 with Real feature 1 : nan\n",
        "Feature 15 with Real feature 0 : nan\n",
        "Feature 15 with Real feature 1 : nan\n",
        "Feature 16 with Real feature 0 : nan\n",
        "Feature 16 with Real feature 1 : nan\n",
        "Feature 17 with Real feature 0 : nan\n",
        "Feature 17 with Real feature 1 : nan\n",
        "Feature 18 with Real feature 0 : nan\n",
        "Feature 18 with Real feature 1 : nan\n",
        "Feature 19 with Real feature 0 : nan\n",
        "Feature 19 with Real feature 1 : nan\n",
        "Feature 20 with Real feature 0 : nan\n",
        "Feature 20 with Real feature 1 : nan\n",
        "Feature 21 with Real feature 0 : nan\n",
        "Feature 21 with Real feature 1 : nan\n",
        "Feature 22 with Real feature 0 : nan\n",
        "Feature 22 with Real feature 1 : nan\n",
        "Feature 23 with Real feature 0 : nan\n",
        "Feature 23 with Real feature 1 : nan\n",
        "Feature 24 with Real feature 0 : nan\n",
        "Feature 24 with Real feature 1 : nan\n",
        "Feature 25 with Real feature 0 : nan\n",
        "Feature 25 with Real feature 1 : nan\n",
        "Feature 26 with Real feature 0 : nan\n",
        "Feature 26 with Real feature 1 : nan\n",
        "Feature 27 with Real feature 0 : nan\n",
        "Feature 27 with Real feature 1 : nan\n",
        "Feature 28 with Real feature 0 : nan\n",
        "Feature 28 with Real feature 1 : nan\n",
        "Feature 29 with Real feature 0 : nan\n",
        "Feature 29 with Real feature 1 : nan\n",
        "Feature 30 with Real feature 0 : nan\n",
        "Feature 30 with Real feature 1 : nan\n",
        "Feature 31 with Real feature 0 : nan\n",
        "Feature 31 with Real feature 1 : nan\n",
        "Feature 32 with Real feature 0 : nan\n",
        "Feature 32 with Real feature 1 : nan\n",
        "Feature 33 with Real feature 0 : nan\n",
        "Feature 33 with Real feature 1 : nan\n",
        "Feature 34 with Real feature 0 : nan\n",
        "Feature 34 with Real feature 1 : nan\n",
        "Feature 35 with Real feature 0 : nan\n",
        "Feature 35 with Real feature 1 : nan\n",
        "Feature 36 with Real feature 0 : nan\n",
        "Feature 36 with Real feature 1 : nan\n",
        "Feature 37 with Real feature 0 : nan\n",
        "Feature 37 with Real feature 1 : nan\n",
        "Feature 38 with Real feature 0 : nan\n",
        "Feature 38 with Real feature 1 : nan\n",
        "Feature 39 with Real feature 0 : nan\n",
        "Feature 39 with Real feature 1 : nan\n"
       ]
      },
      {
       "output_type": "stream",
       "stream": "stderr",
       "text": [
        "/home/mehdi/anaconda/lib/python2.7/site-packages/numpy/lib/function_base.py:1890: RuntimeWarning: Degrees of freedom <= 0 for slice\n",
        "  warnings.warn(\"Degrees of freedom <= 0 for slice\", RuntimeWarning)\n",
        "/home/mehdi/anaconda/lib/python2.7/site-packages/numpy/lib/function_base.py:1901: RuntimeWarning: invalid value encountered in true_divide\n",
        "  return (dot(X, X.T.conj()) / fact).squeeze()\n"
       ]
      }
     ],
     "prompt_number": 344
    },
    {
     "cell_type": "code",
     "collapsed": false,
     "input": [
      "images, hidden = gen(100, imshape)\n",
      "images = images.reshape( (images.shape[0], np.prod(imshape)) )\n",
      "\n",
      "\n",
      "images = test_images\n",
      "\n",
      "\n",
      "predicted = learner.predict(images)\n",
      "images = images.reshape( (images.shape[0], imshape[0], imshape[1]))\n",
      "\n"
     ],
     "language": "python",
     "metadata": {},
     "outputs": [],
     "prompt_number": 555
    },
    {
     "cell_type": "code",
     "collapsed": false,
     "input": [
      "\n",
      "predicted = predicted.reshape( images.shape )\n",
      "k = 1\n",
      "nb = 5\n",
      "\n",
      "for i in xrange(nb):\n",
      "    plt.subplot(nb, 2, k)\n",
      "    index = np.random.randint(0, images.shape[0]-1)\n",
      "    plt.imshow(images[index], cmap='gray')\n",
      "    plt.subplot(nb, 2, k + 1)\n",
      "    plt.imshow(predicted[index], cmap='gray')\n",
      "    print np.sum((images[index] - predicted[index]) ** 2)\n",
      "    k += 2\n",
      "plt.show()\n"
     ],
     "language": "python",
     "metadata": {},
     "outputs": [
      {
       "output_type": "stream",
       "stream": "stdout",
       "text": [
        "1.73967727124\n",
        "1.59963420927"
       ]
      },
      {
       "output_type": "stream",
       "stream": "stdout",
       "text": [
        "\n",
        "0.39117489176"
       ]
      },
      {
       "output_type": "stream",
       "stream": "stdout",
       "text": [
        "\n",
        "0.716090097223"
       ]
      },
      {
       "output_type": "stream",
       "stream": "stdout",
       "text": [
        "\n",
        "0.0221588546322"
       ]
      },
      {
       "output_type": "stream",
       "stream": "stdout",
       "text": [
        "\n"
       ]
      },
      {
       "metadata": {},
       "output_type": "display_data",
       "png": "[encoded data removed]",
       "text": [
        "<matplotlib.figure.Figure at 0xac33a4cc>"
       ]
      }
     ],
     "prompt_number": 557
    },
    {
     "cell_type": "code",
     "collapsed": false,
     "input": [
      "k = 1\n",
      "weights = learner.nn.layers[0].W\n",
      "weights = learner.nn.layers[3].W.T\n",
      "print weights.shape\n",
      "\n",
      "nb = len(weights)\n",
      "s = int(np.sqrt(nb) + 1)\n",
      "for i in xrange(nb):\n",
      "    if i > nb - 1:\n",
      "        break\n",
      "    plt.subplot(s, s, i + 1)\n",
      "    img = weights[i].reshape(imshape)\n",
      "    plt.imshow(img, cmap='gray')\n",
      "plt.show()"
     ],
     "language": "python",
     "metadata": {},
     "outputs": [
      {
       "output_type": "stream",
       "stream": "stdout",
       "text": [
        "(32, 400)\n"
       ]
      },
      {
       "metadata": {},
       "output_type": "display_data",
       "png": "[encoded data removed]",
       "text": [
        "<matplotlib.figure.Figure at 0xacb6580c>"
       ]
      }
     ],
     "prompt_number": 558
    },
    {
     "cell_type": "code",
     "collapsed": false,
     "input": [
      "\n",
      "\n",
      "\n",
      "from sklearn.neural_network import rbm\n",
      "images = images.reshape( (images.shape[0], np.prod(imshape) ) )\n",
      "model = rbm.BernoulliRBM(n_components=2, n_iter=100000, learning_rate=0.01)\n",
      "model.fit(images)"
     ],
     "language": "python",
     "metadata": {},
     "outputs": [
      {
       "metadata": {},
       "output_type": "pyout",
       "prompt_number": 454,
       "text": [
        "BernoulliRBM(batch_size=10, learning_rate=0.05, n_components=2, n_iter=10000,\n",
        "       random_state=None, verbose=0)"
       ]
      }
     ],
     "prompt_number": 454
    },
    {
     "cell_type": "code",
     "collapsed": false,
     "input": [
      "v = images\n",
      "h = model.transform(v)\n",
      "v_tilde = sigmoid(np.dot(h, model.components_) + model.intercept_visible_)\n",
      "\n",
      "v = v.reshape( (v.shape[0], imshape[0], imshape[1]) )\n",
      "v_tilde = v_tilde.reshape( v.shape )\n",
      "k  = 1\n",
      "n = 6\n",
      "for i in xrange(n):\n",
      "    index = np.random.randint(0, images.shape[0] - 1)\n",
      "    plt.subplot(n, 2, k)\n",
      "    plt.imshow(v[index], cmap='gray')\n",
      "    \n",
      "    plt.subplot(n, 2, k + 1)\n",
      "    plt.imshow(v_tilde[index], cmap='gray')\n",
      "    \n",
      "    k += 2\n",
      "plt.show()"
     ],
     "language": "python",
     "metadata": {},
     "outputs": [
      {
       "metadata": {},
       "output_type": "display_data",
       "png": "[encoded data removed]",
       "text": [
        "<matplotlib.figure.Figure at 0xacf0d70c>"
       ]
      }
     ],
     "prompt_number": 455
    }
   ],
   "metadata": {}
  }
 ]
}